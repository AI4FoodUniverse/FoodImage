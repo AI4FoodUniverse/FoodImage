{
 "cells": [
  {
   "cell_type": "code",
   "execution_count": 6,
   "metadata": {
    "ExecuteTime": {
     "end_time": "2024-04-08T15:57:17.909868Z",
     "start_time": "2024-04-08T15:57:15.064902Z"
    }
   },
   "outputs": [],
   "source": [
    "import pandas as pd\n",
    "import os\n",
    "\n",
    "# Specify the folder path\n",
    "# 指定文件夹路径 \n",
    "folder_path = '4cbatchlabel'\n",
    "\n",
    "# Get all CSV files in the folder\n",
    "# 获取文件夹下所有csv文件\n",
    "csv_files = [file for file in os.listdir(folder_path) if file.endswith('.csv')]\n",
    "\n",
    "# Create an empty DataFrame to store the merged data\n",
    "# 创建一个空的DataFrame来存储合并后的数据\n",
    "merged_data = pd.DataFrame()\n",
    "\n",
    "# Read and merge CSV files one by one\n",
    "# 逐个读取并合并CSV文件\n",
    "for file in csv_files:\n",
    "    # Read the CSV file\n",
    "    # 读取CSV文件\n",
    "    file_path = os.path.join(folder_path, file)\n",
    "    data = pd.read_csv(file_path)\n",
    "    \n",
    "    # Merge the data into the merged_data DataFrame\n",
    "    # 合并数据到merged_data DataFrame\n",
    "    merged_data = pd.concat([merged_data, data], ignore_index=True)\n",
    "\n",
    "# Write the merged data to a new CSV file\n",
    "# 将合并后的数据写入新的CSV文件\n",
    "merged_data.to_csv('merged_data.csv', index=False)"
   ]
  },
  {
   "cell_type": "code",
   "execution_count": 8,
   "metadata": {},
   "outputs": [],
   "source": [
    "import pandas as pd\n",
    "import os\n",
    "\n",
    "# Read the CSV file\n",
    "# 读取CSV文件\n",
    "df = pd.read_csv('merged_data.csv')\n",
    "\n",
    "# Remove the file extension from the first column\n",
    "# 删除第一列中的文件后缀名\n",
    "df['Image_name'] = df['Image_name'].apply(lambda x: os.path.splitext(x)[0])\n",
    "\n",
    "# Write the processed data back to a CSV file\n",
    "# 将处理后的数据写回CSV文件\n",
    "df.to_csv('your_processed_csv_file.csv', index=False)"
   ]
  },
  {
   "cell_type": "code",
   "execution_count": null,
   "metadata": {},
   "outputs": [],
   "source": []
  }
 ],
 "metadata": {
  "kernelspec": {
   "display_name": "bacteria_detection",
   "language": "python",
   "name": "python3"
  },
  "language_info": {
   "codemirror_mode": {
    "name": "ipython",
    "version": 3
   },
   "file_extension": ".py",
   "mimetype": "text/x-python",
   "name": "python",
   "nbconvert_exporter": "python",
   "pygments_lexer": "ipython3",
   "version": "3.8.19"
  }
 },
 "nbformat": 4,
 "nbformat_minor": 2
}
